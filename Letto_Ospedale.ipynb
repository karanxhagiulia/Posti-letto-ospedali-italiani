{
 "cells": [
  {
   "cell_type": "code",
   "execution_count": 2,
   "id": "8301b0d9",
   "metadata": {},
   "outputs": [
    {
     "name": "stdout",
     "output_type": "stream",
     "text": [
      "Setup Complete\n"
     ]
    }
   ],
   "source": [
    "import pandas as pd\n",
    "pd.plotting.register_matplotlib_converters()\n",
    "import matplotlib.pyplot as plt\n",
    "%matplotlib inline\n",
    "import seaborn as sns\n",
    "\n",
    "print(\"Setup Complete\")"
   ]
  },
  {
   "cell_type": "code",
   "execution_count": 3,
   "id": "26b27cd0",
   "metadata": {},
   "outputs": [
    {
     "data": {
      "text/html": [
       "<div>\n",
       "<style scoped>\n",
       "    .dataframe tbody tr th:only-of-type {\n",
       "        vertical-align: middle;\n",
       "    }\n",
       "\n",
       "    .dataframe tbody tr th {\n",
       "        vertical-align: top;\n",
       "    }\n",
       "\n",
       "    .dataframe thead th {\n",
       "        text-align: right;\n",
       "    }\n",
       "</style>\n",
       "<table border=\"1\" class=\"dataframe\">\n",
       "  <thead>\n",
       "    <tr style=\"text-align: right;\">\n",
       "      <th></th>\n",
       "      <th>Anno</th>\n",
       "      <th>Codice Regione</th>\n",
       "      <th>Descrizione Regione</th>\n",
       "      <th>Codice Azienda</th>\n",
       "      <th>Tipo Azienda</th>\n",
       "      <th>Codice struttura</th>\n",
       "      <th>Denominazione struttura</th>\n",
       "      <th>Indirizzo</th>\n",
       "      <th>Codice Comune</th>\n",
       "      <th>Comune</th>\n",
       "      <th>Sigla provincia</th>\n",
       "      <th>Codice tipo struttura</th>\n",
       "      <th>Descrizione tipo struttura</th>\n",
       "      <th>Tipo di Disciplina</th>\n",
       "      <th>Posti letto degenza ordinaria</th>\n",
       "      <th>Posti letto degenza a pagamento</th>\n",
       "      <th>Posti letto Day Hospital</th>\n",
       "      <th>Posti letto Day Surgery</th>\n",
       "      <th>Totale posti letto</th>\n",
       "    </tr>\n",
       "  </thead>\n",
       "  <tbody>\n",
       "    <tr>\n",
       "      <th>0</th>\n",
       "      <td>2010.0</td>\n",
       "      <td>10.0</td>\n",
       "      <td>PIEMONTE</td>\n",
       "      <td>201.0</td>\n",
       "      <td>1.0</td>\n",
       "      <td>10007.0</td>\n",
       "      <td>OSPEDALE MARTINI</td>\n",
       "      <td>VIA TOFANE</td>\n",
       "      <td>1272.0</td>\n",
       "      <td>TORINO</td>\n",
       "      <td>TO</td>\n",
       "      <td>1.0</td>\n",
       "      <td>Ospedale a gestione diretta</td>\n",
       "      <td>ACUTI</td>\n",
       "      <td>202.0</td>\n",
       "      <td>0.0</td>\n",
       "      <td>21.0</td>\n",
       "      <td>1.0</td>\n",
       "      <td>224.0</td>\n",
       "    </tr>\n",
       "    <tr>\n",
       "      <th>1</th>\n",
       "      <td>2010.0</td>\n",
       "      <td>10.0</td>\n",
       "      <td>PIEMONTE</td>\n",
       "      <td>201.0</td>\n",
       "      <td>1.0</td>\n",
       "      <td>10010.0</td>\n",
       "      <td>OSPEDALE OFTALMICO</td>\n",
       "      <td>VIA JUVARRA FILIPPO</td>\n",
       "      <td>1272.0</td>\n",
       "      <td>TORINO</td>\n",
       "      <td>TO</td>\n",
       "      <td>1.0</td>\n",
       "      <td>Ospedale a gestione diretta</td>\n",
       "      <td>ACUTI</td>\n",
       "      <td>39.0</td>\n",
       "      <td>0.0</td>\n",
       "      <td>4.0</td>\n",
       "      <td>20.0</td>\n",
       "      <td>63.0</td>\n",
       "    </tr>\n",
       "    <tr>\n",
       "      <th>2</th>\n",
       "      <td>2010.0</td>\n",
       "      <td>10.0</td>\n",
       "      <td>PIEMONTE</td>\n",
       "      <td>201.0</td>\n",
       "      <td>1.0</td>\n",
       "      <td>10012.0</td>\n",
       "      <td>OSPEDALE EVANGELICO VALDESE</td>\n",
       "      <td>VIA PELLICO SILVIO</td>\n",
       "      <td>1272.0</td>\n",
       "      <td>TORINO</td>\n",
       "      <td>TO</td>\n",
       "      <td>1.0</td>\n",
       "      <td>Ospedale a gestione diretta</td>\n",
       "      <td>ACUTI</td>\n",
       "      <td>51.0</td>\n",
       "      <td>0.0</td>\n",
       "      <td>20.0</td>\n",
       "      <td>36.0</td>\n",
       "      <td>107.0</td>\n",
       "    </tr>\n",
       "    <tr>\n",
       "      <th>3</th>\n",
       "      <td>2010.0</td>\n",
       "      <td>10.0</td>\n",
       "      <td>PIEMONTE</td>\n",
       "      <td>201.0</td>\n",
       "      <td>1.0</td>\n",
       "      <td>10012.0</td>\n",
       "      <td>OSPEDALE EVANGELICO VALDESE</td>\n",
       "      <td>VIA PELLICO SILVIO</td>\n",
       "      <td>1272.0</td>\n",
       "      <td>TORINO</td>\n",
       "      <td>TO</td>\n",
       "      <td>1.0</td>\n",
       "      <td>Ospedale a gestione diretta</td>\n",
       "      <td>RIABILITAZIONE</td>\n",
       "      <td>0.0</td>\n",
       "      <td>0.0</td>\n",
       "      <td>1.0</td>\n",
       "      <td>0.0</td>\n",
       "      <td>1.0</td>\n",
       "    </tr>\n",
       "    <tr>\n",
       "      <th>4</th>\n",
       "      <td>2010.0</td>\n",
       "      <td>10.0</td>\n",
       "      <td>PIEMONTE</td>\n",
       "      <td>201.0</td>\n",
       "      <td>1.0</td>\n",
       "      <td>10612.0</td>\n",
       "      <td>CASA DI CURA KOELLIKER OSPEDALINO</td>\n",
       "      <td>CORSO FERRARIS GALILEO</td>\n",
       "      <td>1272.0</td>\n",
       "      <td>TORINO</td>\n",
       "      <td>TO</td>\n",
       "      <td>51.0</td>\n",
       "      <td>Casa di cura privata accreditata</td>\n",
       "      <td>ACUTI</td>\n",
       "      <td>84.0</td>\n",
       "      <td>0.0</td>\n",
       "      <td>0.0</td>\n",
       "      <td>21.0</td>\n",
       "      <td>105.0</td>\n",
       "    </tr>\n",
       "  </tbody>\n",
       "</table>\n",
       "</div>"
      ],
      "text/plain": [
       "     Anno  Codice Regione Descrizione Regione  Codice Azienda  Tipo Azienda  \\\n",
       "0  2010.0            10.0            PIEMONTE           201.0           1.0   \n",
       "1  2010.0            10.0            PIEMONTE           201.0           1.0   \n",
       "2  2010.0            10.0            PIEMONTE           201.0           1.0   \n",
       "3  2010.0            10.0            PIEMONTE           201.0           1.0   \n",
       "4  2010.0            10.0            PIEMONTE           201.0           1.0   \n",
       "\n",
       "   Codice struttura                   Denominazione struttura  \\\n",
       "0           10007.0  OSPEDALE MARTINI                           \n",
       "1           10010.0  OSPEDALE OFTALMICO                         \n",
       "2           10012.0  OSPEDALE EVANGELICO VALDESE                \n",
       "3           10012.0  OSPEDALE EVANGELICO VALDESE                \n",
       "4           10612.0  CASA DI CURA KOELLIKER OSPEDALINO          \n",
       "\n",
       "                                  Indirizzo  Codice Comune  \\\n",
       "0  VIA TOFANE                                       1272.0   \n",
       "1  VIA JUVARRA FILIPPO                              1272.0   \n",
       "2  VIA PELLICO SILVIO                               1272.0   \n",
       "3  VIA PELLICO SILVIO                               1272.0   \n",
       "4  CORSO FERRARIS GALILEO                           1272.0   \n",
       "\n",
       "                                     Comune Sigla provincia  \\\n",
       "0  TORINO                                                TO   \n",
       "1  TORINO                                                TO   \n",
       "2  TORINO                                                TO   \n",
       "3  TORINO                                                TO   \n",
       "4  TORINO                                                TO   \n",
       "\n",
       "   Codice tipo struttura        Descrizione tipo struttura Tipo di Disciplina  \\\n",
       "0                    1.0       Ospedale a gestione diretta              ACUTI   \n",
       "1                    1.0       Ospedale a gestione diretta              ACUTI   \n",
       "2                    1.0       Ospedale a gestione diretta              ACUTI   \n",
       "3                    1.0       Ospedale a gestione diretta     RIABILITAZIONE   \n",
       "4                   51.0  Casa di cura privata accreditata              ACUTI   \n",
       "\n",
       "   Posti letto degenza ordinaria  Posti letto degenza a pagamento  \\\n",
       "0                          202.0                              0.0   \n",
       "1                           39.0                              0.0   \n",
       "2                           51.0                              0.0   \n",
       "3                            0.0                              0.0   \n",
       "4                           84.0                              0.0   \n",
       "\n",
       "   Posti letto Day Hospital  Posti letto Day Surgery  Totale posti letto  \n",
       "0                      21.0                      1.0               224.0  \n",
       "1                       4.0                     20.0                63.0  \n",
       "2                      20.0                     36.0               107.0  \n",
       "3                       1.0                      0.0                 1.0  \n",
       "4                       0.0                     21.0               105.0  "
      ]
     },
     "execution_count": 3,
     "metadata": {},
     "output_type": "execute_result"
    }
   ],
   "source": [
    "letti_filepath = \"C:/Users/39351/OneDrive/Desktop/letti_Italia.xlsx\"\n",
    "letti_data = pd.read_excel(letti_filepath)\n",
    "letti_data.head()"
   ]
  },
  {
   "cell_type": "code",
   "execution_count": 4,
   "id": "f8055425",
   "metadata": {},
   "outputs": [
    {
     "data": {
      "text/plain": [
       "['Anno',\n",
       " 'Codice Regione',\n",
       " 'Descrizione Regione',\n",
       " 'Codice Azienda',\n",
       " 'Tipo Azienda',\n",
       " 'Codice struttura',\n",
       " 'Denominazione struttura',\n",
       " 'Indirizzo',\n",
       " 'Codice Comune',\n",
       " 'Comune',\n",
       " 'Sigla provincia',\n",
       " 'Codice tipo struttura',\n",
       " 'Descrizione tipo struttura',\n",
       " 'Tipo di Disciplina',\n",
       " 'Posti letto degenza ordinaria',\n",
       " 'Posti letto degenza a pagamento',\n",
       " 'Posti letto Day Hospital',\n",
       " 'Posti letto Day Surgery',\n",
       " 'Totale posti letto']"
      ]
     },
     "execution_count": 4,
     "metadata": {},
     "output_type": "execute_result"
    }
   ],
   "source": [
    "list(letti_data.columns)"
   ]
  },
  {
   "cell_type": "code",
   "execution_count": 5,
   "id": "da9de760",
   "metadata": {},
   "outputs": [],
   "source": [
    "Totale_posti_letto = letti_data.groupby('Anno')['Totale posti letto'].sum()"
   ]
  },
  {
   "cell_type": "code",
   "execution_count": 6,
   "id": "7750650e",
   "metadata": {},
   "outputs": [
    {
     "data": {
      "text/plain": [
       "Anno\n",
       "2010.0    244310.0\n",
       "2011.0    240036.0\n",
       "2012.0    230396.0\n",
       "2013.0    224397.0\n",
       "2014.0    220578.0\n",
       "2015.0    217180.0\n",
       "2016.0    215210.0\n",
       "2017.0    211593.0\n",
       "2018.0    210907.0\n",
       "2019.0    209157.0\n",
       "Name: Totale posti letto, dtype: float64"
      ]
     },
     "execution_count": 6,
     "metadata": {},
     "output_type": "execute_result"
    }
   ],
   "source": [
    "Totale_posti_letto"
   ]
  },
  {
   "cell_type": "code",
   "execution_count": 7,
   "id": "39d77c66",
   "metadata": {},
   "outputs": [
    {
     "data": {
      "text/plain": [
       "Text(0.5, 1.0, 'Totale posti letto in ospedale in Italia dal 2010 al 2019')"
      ]
     },
     "execution_count": 7,
     "metadata": {},
     "output_type": "execute_result"
    },
    {
     "data": {
      "image/png": "[encoded data removed]",
      "text/plain": [
       "<Figure size 720x432 with 1 Axes>"
      ]
     },
     "metadata": {
      "needs_background": "light"
     },
     "output_type": "display_data"
    }
   ],
   "source": [
    "plt.figure(figsize=(10,6))\n",
    "\n",
    "sns.lineplot(data=Totale_posti_letto)\n",
    "plt.title(\"Totale posti letto in ospedale in Italia dal 2010 al 2019\")\n"
   ]
  },
  {
   "cell_type": "code",
   "execution_count": null,
   "id": "c1ac42c2",
   "metadata": {},
   "outputs": [],
   "source": []
  },
  {
   "cell_type": "code",
   "execution_count": null,
   "id": "7f12ed8b",
   "metadata": {},
   "outputs": [],
   "source": []
  }
 ],
 "metadata": {
  "kernelspec": {
   "display_name": "Python 3 (ipykernel)",
   "language": "python",
   "name": "python3"
  },
  "language_info": {
   "codemirror_mode": {
    "name": "ipython",
    "version": 3
   },
   "file_extension": ".py",
   "mimetype": "text/x-python",
   "name": "python",
   "nbconvert_exporter": "python",
   "pygments_lexer": "ipython3",
   "version": "3.9.7"
  }
 },
 "nbformat": 4,
 "nbformat_minor": 5
}
